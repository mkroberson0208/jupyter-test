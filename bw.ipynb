{
 "cells": [
  {
   "cell_type": "code",
   "execution_count": 11,
   "id": "157ac52b",
   "metadata": {},
   "outputs": [
    {
     "name": "stdout",
     "output_type": "stream",
     "text": [
      "    Face_amt  Default_ind   x1  x2\n",
      "1         50            0  0.8   8\n",
      "2         50            0  1.0   5\n",
      "3         50            0  6.0   6\n",
      "4         50            0  3.5   1\n",
      "5         50            0  2.0   2\n",
      "6         50            0  0.5   1\n",
      "7         50            0  4.0   2\n",
      "8         50            0  3.0   3\n",
      "9         50            0  2.5   4\n",
      "10       200            1  5.0   6\n",
      "11        50            1  8.0   2\n"
     ]
    }
   ],
   "source": [
    "import os\n",
    "import pandas as pd\n",
    "import numpy as np\n",
    "from sklearn.linear_model import LogisticRegression\n",
    "import statsmodels.api as sm\n",
    "\n",
    "os.chdir('Q:\\\\')\n",
    "df = pd.read_csv('https://raw.githubusercontent.com/mkroberson0208/jupyter-test/main/synthetic_data.csv')\n",
    "df = df.sort_values('Default_ind')\n",
    "df.reset_index(inplace=True,drop=True)\n",
    "df.index = df.index + 1\n",
    "print(df)"
   ]
  },
  {
   "cell_type": "code",
   "execution_count": 12,
   "id": "5ee91ffb",
   "metadata": {},
   "outputs": [
    {
     "name": "stdout",
     "output_type": "stream",
     "text": [
      "{'Default Rate': 0.18181818181818182, 'Charge-off Rate': 0.35714285714285715}\n"
     ]
    }
   ],
   "source": [
    "# Default rate = event incidence (0/1 indicator)\n",
    "# Loss or charge-off rate = balance lost (0/1 multiplied by $ balance)\n",
    "d = {}\n",
    "d['Default Rate'] = df['Default_ind'].sum()/df['Default_ind'].count()\n",
    "d['Charge-off Rate'] = (df['Face_amt']*df['Default_ind']).sum()/df['Face_amt'].sum()\n",
    "print(d)"
   ]
  },
  {
   "cell_type": "code",
   "execution_count": 16,
   "id": "7f9808a4",
   "metadata": {},
   "outputs": [
    {
     "name": "stdout",
     "output_type": "stream",
     "text": [
      "                 Generalized Linear Model Regression Results                  \n",
      "==============================================================================\n",
      "Dep. Variable:                      y   No. Observations:                   11\n",
      "Model:                            GLM   Df Residuals:                        9\n",
      "Model Family:                Binomial   Df Model:                            1\n",
      "Link Function:                  logit   Scale:                          1.0000\n",
      "Method:                          IRLS   Log-Likelihood:                -2.4147\n",
      "Date:                Thu, 16 Sep 2021   Deviance:                       4.8294\n",
      "Time:                        08:24:40   Pearson chi2:                     4.21\n",
      "No. Iterations:                     7                                         \n",
      "Covariance Type:            nonrobust                                         \n",
      "==============================================================================\n",
      "                 coef    std err          z      P>|z|      [0.025      0.975]\n",
      "------------------------------------------------------------------------------\n",
      "const         -6.9947      4.397     -1.591      0.112     -15.614       1.624\n",
      "x1             1.2060      0.827      1.458      0.145      -0.416       2.828\n",
      "==============================================================================\n",
      "Predicted charge-off rate:  0.20198735515433805\n"
     ]
    }
   ],
   "source": [
    "# weight = % of portfolio balance per row\n",
    "# Similar to portfolio weights in caluclating risk/return for investments\n",
    "df['weight'] = df['Face_amt']/df['Face_amt'].sum()\n",
    "\n",
    "# Logistic model \n",
    "#   - Estimated on default event indicator to output default rate\n",
    "\n",
    "iv = ['x1']\n",
    "x = np.asarray(df[iv])\n",
    "y = np.asarray(df['Default_ind'])\n",
    "model = sm.GLM(endog=y, exog=sm.add_constant(x), family=sm.families.Binomial())\n",
    "result = model.fit()\n",
    "print(result.summary())\n",
    "df['y_hat'] = result.predict(sm.add_constant(x))\n",
    "print('Predicted charge-off rate: ', (df['Face_amt']*df['y_hat']).sum()/df['Face_amt'].sum())"
   ]
  },
  {
   "cell_type": "code",
   "execution_count": 17,
   "id": "15a15923",
   "metadata": {},
   "outputs": [
    {
     "name": "stdout",
     "output_type": "stream",
     "text": [
      "                 Generalized Linear Model Regression Results                  \n",
      "==============================================================================\n",
      "Dep. Variable:                      y   No. Observations:                   11\n",
      "Model:                            GLM   Df Residuals:                       -1\n",
      "Model Family:                Binomial   Df Model:                            1\n",
      "Link Function:                  logit   Scale:                          1.0000\n",
      "Method:                          IRLS   Log-Likelihood:               -0.33182\n",
      "Date:                Thu, 16 Sep 2021   Deviance:                      0.66364\n",
      "Time:                        09:10:31   Pearson chi2:                    0.772\n",
      "No. Iterations:                     6                                         \n",
      "Covariance Type:            nonrobust                                         \n",
      "==============================================================================\n",
      "                 coef    std err          z      P>|z|      [0.025      0.975]\n",
      "------------------------------------------------------------------------------\n",
      "const         -6.9411     15.563     -0.446      0.656     -37.445      23.562\n",
      "x1             1.4986      3.324      0.451      0.652      -5.016       8.013\n",
      "==============================================================================\n",
      "Predicted charge-off rate:  0.3571428572928815\n"
     ]
    }
   ],
   "source": [
    "# Balance-weighted logistic model\n",
    "#   - Estimated on default event indicator re-weighted by % balance to output loss rate\n",
    "iv = ['x1']\n",
    "x = np.asarray(df[iv])\n",
    "y = np.asarray(df['Default_ind'])\n",
    "model = sm.GLM(endog=y, exog=sm.add_constant(x), family=sm.families.Binomial(),freq_weights=np.asarray(df['weight']))\n",
    "result = model.fit()\n",
    "print(result.summary())\n",
    "df['y_hat'] = result.predict(sm.add_constant(x))\n",
    "print('Predicted charge-off rate: ', (df['Face_amt']*df['y_hat']).sum()/df['Face_amt'].sum())"
   ]
  },
  {
   "cell_type": "code",
   "execution_count": null,
   "id": "ea7101e7",
   "metadata": {},
   "outputs": [],
   "source": [
    "\n",
    "# Sklearn and statmodels both have options  \n",
    "sk_model = LogisticRegression(penalty='none')\n",
    "sk_model.fit(x,y)\n",
    "print(sk_model.coef_,sk_model.intercept_)\n",
    "sm_model = sm.GLM(endog=y, exog=sm.add_constant(x), family=sm.families.Binomial())\n",
    "result = sm_model.fit()\n",
    "print(result.summary())\n",
    "\n",
    "\n",
    "\n",
    "sk_model = LogisticRegression(penalty='none')\n",
    "sk_model.fit(x,y,sample_weight=df['weight'])\n",
    "print(sk_model.coef_,sk_model.intercept_)\n",
    "sm_model = sm.GLM(endog=y, exog=sm.add_constant(x), family=sm.families.Binomial(),freq_weights=np.asarray(df['weight']))\n",
    "result = sm_model.fit()\n",
    "print(result.summary())\n",
    "\n",
    "# Sample weights are applied as geometric / ratio to one another\n",
    "# so the following weights (sum replaced by average balance and multiply by N)\n",
    "# produce the same relative weighting and results\n",
    "df['weight'] = 100*(df['Face_amt']/df['Face_amt'].mean())"
   ]
  }
 ],
 "metadata": {
  "kernelspec": {
   "display_name": "Python 3",
   "language": "python",
   "name": "python3"
  },
  "language_info": {
   "codemirror_mode": {
    "name": "ipython",
    "version": 3
   },
   "file_extension": ".py",
   "mimetype": "text/x-python",
   "name": "python",
   "nbconvert_exporter": "python",
   "pygments_lexer": "ipython3",
   "version": "3.7.3"
  }
 },
 "nbformat": 4,
 "nbformat_minor": 5
}
